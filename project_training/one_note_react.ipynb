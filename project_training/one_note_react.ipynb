{
 "cells": [
  {
   "cell_type": "code",
   "execution_count": null,
   "metadata": {},
   "outputs": [],
   "source": []
  },
  {
   "cell_type": "markdown",
   "metadata": {},
   "source": [
    "# May 13, 2022\n",
    "## React Dom"
   ]
  },
  {
   "cell_type": "markdown",
   "metadata": {},
   "source": [
    "- React DOM helps to connect root component to html"
   ]
  }
 ],
 "metadata": {
  "language_info": {
   "name": "python"
  },
  "orig_nbformat": 4
 },
 "nbformat": 4,
 "nbformat_minor": 2
}
